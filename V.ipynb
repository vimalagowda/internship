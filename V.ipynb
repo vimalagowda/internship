{
 "cells": [
  {
   "cell_type": "code",
   "execution_count": null,
   "id": "ff1bff27",
   "metadata": {},
   "outputs": [],
   "source": [
    "pppppppp\n"
   ]
  }
 ],
 "metadata": {
  "language_info": {
   "name": "python"
  }
 },
 "nbformat": 4,
 "nbformat_minor": 5
}
