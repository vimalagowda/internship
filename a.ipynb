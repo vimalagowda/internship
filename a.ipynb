{
 "cells": [
  {
   "cell_type": "code",
   "execution_count": null,
   "id": "4a3d2831",
   "metadata": {},
   "outputs": [],
   "source": [
    "import pandas as pd\n",
    "\n",
    "# 1. Read CSV\n",
    "df = pd.read_csv('sales.csv')\n",
    "\n",
    "# 2. Clean Data\n",
    "df.dropna(inplace=True)\n",
    "df['Revenue'] = df['Quantity'] * df['Price']\n",
    "\n",
    "# 3. Analyze\n",
    "top_seller = df.groupby('Product')['Revenue'].sum().sort_values(ascending=False)\n",
    "print(top_seller)\n",
    "\n",
    "# 4. Visualize\n",
    "top_seller.plot(kind='bar', title='Revenue by Product')\n",
    "\n",
    "# 5. Save Results\n",
    "top_seller.to_csv('revenue_report.csv')"
   ]
  }
 ],
 "metadata": {
  "language_info": {
   "name": "python"
  }
 },
 "nbformat": 4,
 "nbformat_minor": 5
}
