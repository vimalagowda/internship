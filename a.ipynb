{
 "cells": [
  {
   "cell_type": "code",
   "execution_count": 1,
   "id": "4a3d2831",
   "metadata": {},
   "outputs": [],
   "source": [
    "import pandas as pd\n",
    "df=pd.read_csv(\"C:/Users/vimal/Downloads/practice/internship/chemical_compounds.csv\")"
   ]
  },
  {
   "cell_type": "code",
   "execution_count": 2,
   "id": "bae10b50",
   "metadata": {},
   "outputs": [
    {
     "data": {
      "text/html": [
       "<div>\n",
       "<style scoped>\n",
       "    .dataframe tbody tr th:only-of-type {\n",
       "        vertical-align: middle;\n",
       "    }\n",
       "\n",
       "    .dataframe tbody tr th {\n",
       "        vertical-align: top;\n",
       "    }\n",
       "\n",
       "    .dataframe thead th {\n",
       "        text-align: right;\n",
       "    }\n",
       "</style>\n",
       "<table border=\"1\" class=\"dataframe\">\n",
       "  <thead>\n",
       "    <tr style=\"text-align: right;\">\n",
       "      <th></th>\n",
       "      <th>Compound Name</th>\n",
       "      <th>Molecular Formula</th>\n",
       "      <th>Molecular Weight (g/mol)</th>\n",
       "      <th>Density (g/cm³)</th>\n",
       "      <th>Melting Point (°C)</th>\n",
       "      <th>Boiling Point (°C)</th>\n",
       "    </tr>\n",
       "  </thead>\n",
       "  <tbody>\n",
       "    <tr>\n",
       "      <th>0</th>\n",
       "      <td>Water</td>\n",
       "      <td>H2O</td>\n",
       "      <td>18.015</td>\n",
       "      <td>1.00000</td>\n",
       "      <td>0.0</td>\n",
       "      <td>100.00</td>\n",
       "    </tr>\n",
       "    <tr>\n",
       "      <th>1</th>\n",
       "      <td>Ethanol</td>\n",
       "      <td>C2H6O</td>\n",
       "      <td>46.070</td>\n",
       "      <td>0.78900</td>\n",
       "      <td>-114.1</td>\n",
       "      <td>78.37</td>\n",
       "    </tr>\n",
       "    <tr>\n",
       "      <th>2</th>\n",
       "      <td>Glucose</td>\n",
       "      <td>C6H12O6</td>\n",
       "      <td>180.160</td>\n",
       "      <td>1.54000</td>\n",
       "      <td>146.0</td>\n",
       "      <td>146.00</td>\n",
       "    </tr>\n",
       "    <tr>\n",
       "      <th>3</th>\n",
       "      <td>Sodium Chloride</td>\n",
       "      <td>NaCl</td>\n",
       "      <td>58.440</td>\n",
       "      <td>2.16000</td>\n",
       "      <td>801.0</td>\n",
       "      <td>1413.00</td>\n",
       "    </tr>\n",
       "    <tr>\n",
       "      <th>4</th>\n",
       "      <td>Carbon Dioxide</td>\n",
       "      <td>CO2</td>\n",
       "      <td>44.010</td>\n",
       "      <td>0.00198</td>\n",
       "      <td>-78.5</td>\n",
       "      <td>-78.50</td>\n",
       "    </tr>\n",
       "  </tbody>\n",
       "</table>\n",
       "</div>"
      ],
      "text/plain": [
       "     Compound Name Molecular Formula  Molecular Weight (g/mol)  \\\n",
       "0            Water               H2O                    18.015   \n",
       "1          Ethanol             C2H6O                    46.070   \n",
       "2          Glucose           C6H12O6                   180.160   \n",
       "3  Sodium Chloride              NaCl                    58.440   \n",
       "4   Carbon Dioxide               CO2                    44.010   \n",
       "\n",
       "   Density (g/cm³)  Melting Point (°C)  Boiling Point (°C)  \n",
       "0          1.00000                 0.0              100.00  \n",
       "1          0.78900              -114.1               78.37  \n",
       "2          1.54000               146.0              146.00  \n",
       "3          2.16000               801.0             1413.00  \n",
       "4          0.00198               -78.5              -78.50  "
      ]
     },
     "execution_count": 2,
     "metadata": {},
     "output_type": "execute_result"
    }
   ],
   "source": [
    "df.head()"
   ]
  },
  {
   "cell_type": "code",
   "execution_count": 3,
   "id": "8433ac7f",
   "metadata": {},
   "outputs": [
    {
     "data": {
      "text/plain": [
       "0    False\n",
       "1    False\n",
       "2    False\n",
       "3    False\n",
       "4    False\n",
       "5    False\n",
       "6    False\n",
       "7    False\n",
       "8    False\n",
       "9    False\n",
       "dtype: bool"
      ]
     },
     "execution_count": 3,
     "metadata": {},
     "output_type": "execute_result"
    }
   ],
   "source": [
    "df.duplicated()"
   ]
  },
  {
   "cell_type": "code",
   "execution_count": null,
   "id": "ccdc22cb",
   "metadata": {},
   "outputs": [],
   "source": []
  }
 ],
 "metadata": {
  "kernelspec": {
   "display_name": "Python 3",
   "language": "python",
   "name": "python3"
  },
  "language_info": {
   "codemirror_mode": {
    "name": "ipython",
    "version": 3
   },
   "file_extension": ".py",
   "mimetype": "text/x-python",
   "name": "python",
   "nbconvert_exporter": "python",
   "pygments_lexer": "ipython3",
   "version": "3.11.9"
  }
 },
 "nbformat": 4,
 "nbformat_minor": 5
}
