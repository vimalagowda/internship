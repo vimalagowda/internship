{
 "cells": [
  {
   "cell_type": "code",
   "execution_count": null,
   "id": "ad427b95",
   "metadata": {},
   "outputs": [],
   "source": [
    "import pandas as pd \n",
    "df=read_csv(\"\")"
   ]
  }
 ],
 "metadata": {
  "language_info": {
   "name": "python"
  }
 },
 "nbformat": 4,
 "nbformat_minor": 5
}
