{
 "cells": [
  {
   "cell_type": "code",
   "execution_count": null,
   "id": "749de90f",
   "metadata": {},
   "outputs": [],
   "source": [
    "hello\n"
   ]
  }
 ],
 "metadata": {
  "language_info": {
   "name": "python"
  }
 },
 "nbformat": 4,
 "nbformat_minor": 5
}
